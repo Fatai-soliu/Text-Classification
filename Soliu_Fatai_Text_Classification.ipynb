{
  "nbformat": 4,
  "nbformat_minor": 0,
  "metadata": {
    "colab": {
      "provenance": [],
      "authorship_tag": "ABX9TyNImLW9lXvaih6QwVTeB1eZ",
      "include_colab_link": true
    },
    "kernelspec": {
      "name": "python3",
      "display_name": "Python 3"
    },
    "language_info": {
      "name": "python"
    }
  },
  "cells": [
    {
      "cell_type": "markdown",
      "metadata": {
        "id": "view-in-github",
        "colab_type": "text"
      },
      "source": [
        "<a href=\"https://colab.research.google.com/github/Fatai-soliu/Text-Classification/blob/main/Soliu_Fatai_Text_Classification.ipynb\" target=\"_parent\"><img src=\"https://colab.research.google.com/assets/colab-badge.svg\" alt=\"Open In Colab\"/></a>"
      ]
    },
    {
      "cell_type": "code",
      "execution_count": 68,
      "metadata": {
        "colab": {
          "base_uri": "https://localhost:8080/"
        },
        "id": "BOYSnevRNYfs",
        "outputId": "586d2e4c-ae8e-4953-f707-85fa1a1cfa3a"
      },
      "outputs": [
        {
          "output_type": "stream",
          "name": "stdout",
          "text": [
            "Version:  2.15.0\n",
            "Eager mode:  True\n",
            "Hub version:  0.16.1\n",
            "GPU is NOT AVAILABLE\n"
          ]
        }
      ],
      "source": [
        "import numpy as np\n",
        "import pandas as pd\n",
        "\n",
        "import tensorflow as tf\n",
        "import tensorflow_hub as hub\n",
        "import tensorflow_datasets as tfds\n",
        "\n",
        "import matplotlib.pyplot as plt\n",
        "\n",
        "print(\"Version: \", tf.__version__)\n",
        "print(\"Eager mode: \", tf.executing_eagerly())\n",
        "print(\"Hub version: \", hub.__version__)\n",
        "print(\"GPU is\", \"available\" if tf.config.list_physical_devices('GPU') else \"NOT AVAILABLE\")"
      ]
    },
    {
      "cell_type": "code",
      "source": [
        "url = 'https://github.com/Fatai-soliu/Text-Classification/raw/master/Scopusdataset.xlsx'\n",
        "\n",
        "papers = pd.read_excel(url, engine='openpyxl')"
      ],
      "metadata": {
        "id": "56nOHr9WNfFS"
      },
      "execution_count": 52,
      "outputs": []
    },
    {
      "cell_type": "code",
      "source": [
        "# View first 5 rows of data\n",
        "\n",
        "papers.head()"
      ],
      "metadata": {
        "colab": {
          "base_uri": "https://localhost:8080/",
          "height": 206
        },
        "id": "wPGFy_nVpaiU",
        "outputId": "c634b8a2-3094-489e-cba3-e62feff37bec"
      },
      "execution_count": 53,
      "outputs": [
        {
          "output_type": "execute_result",
          "data": {
            "text/plain": [
              "                                            Abstract  \\\n",
              "0  In computer artificial intelligence, there is ...   \n",
              "1  Artificial intelligence (AI) holds significant...   \n",
              "2  The influence of Artificial Intelligence on hi...   \n",
              "3  Background: Benign paroxysmal positional verti...   \n",
              "4  Space-air-ground integrated networks comprise ...   \n",
              "\n",
              "                            Subject  \n",
              "0  Computer science and engineering  \n",
              "1  Computer science and engineering  \n",
              "2  Computer science and engineering  \n",
              "3  Computer science and engineering  \n",
              "4  Computer science and engineering  "
            ],
            "text/html": [
              "\n",
              "  <div id=\"df-2479c42a-b227-4edb-9210-f420b2e91fe2\" class=\"colab-df-container\">\n",
              "    <div>\n",
              "<style scoped>\n",
              "    .dataframe tbody tr th:only-of-type {\n",
              "        vertical-align: middle;\n",
              "    }\n",
              "\n",
              "    .dataframe tbody tr th {\n",
              "        vertical-align: top;\n",
              "    }\n",
              "\n",
              "    .dataframe thead th {\n",
              "        text-align: right;\n",
              "    }\n",
              "</style>\n",
              "<table border=\"1\" class=\"dataframe\">\n",
              "  <thead>\n",
              "    <tr style=\"text-align: right;\">\n",
              "      <th></th>\n",
              "      <th>Abstract</th>\n",
              "      <th>Subject</th>\n",
              "    </tr>\n",
              "  </thead>\n",
              "  <tbody>\n",
              "    <tr>\n",
              "      <th>0</th>\n",
              "      <td>In computer artificial intelligence, there is ...</td>\n",
              "      <td>Computer science and engineering</td>\n",
              "    </tr>\n",
              "    <tr>\n",
              "      <th>1</th>\n",
              "      <td>Artificial intelligence (AI) holds significant...</td>\n",
              "      <td>Computer science and engineering</td>\n",
              "    </tr>\n",
              "    <tr>\n",
              "      <th>2</th>\n",
              "      <td>The influence of Artificial Intelligence on hi...</td>\n",
              "      <td>Computer science and engineering</td>\n",
              "    </tr>\n",
              "    <tr>\n",
              "      <th>3</th>\n",
              "      <td>Background: Benign paroxysmal positional verti...</td>\n",
              "      <td>Computer science and engineering</td>\n",
              "    </tr>\n",
              "    <tr>\n",
              "      <th>4</th>\n",
              "      <td>Space-air-ground integrated networks comprise ...</td>\n",
              "      <td>Computer science and engineering</td>\n",
              "    </tr>\n",
              "  </tbody>\n",
              "</table>\n",
              "</div>\n",
              "    <div class=\"colab-df-buttons\">\n",
              "\n",
              "  <div class=\"colab-df-container\">\n",
              "    <button class=\"colab-df-convert\" onclick=\"convertToInteractive('df-2479c42a-b227-4edb-9210-f420b2e91fe2')\"\n",
              "            title=\"Convert this dataframe to an interactive table.\"\n",
              "            style=\"display:none;\">\n",
              "\n",
              "  <svg xmlns=\"http://www.w3.org/2000/svg\" height=\"24px\" viewBox=\"0 -960 960 960\">\n",
              "    <path d=\"M120-120v-720h720v720H120Zm60-500h600v-160H180v160Zm220 220h160v-160H400v160Zm0 220h160v-160H400v160ZM180-400h160v-160H180v160Zm440 0h160v-160H620v160ZM180-180h160v-160H180v160Zm440 0h160v-160H620v160Z\"/>\n",
              "  </svg>\n",
              "    </button>\n",
              "\n",
              "  <style>\n",
              "    .colab-df-container {\n",
              "      display:flex;\n",
              "      gap: 12px;\n",
              "    }\n",
              "\n",
              "    .colab-df-convert {\n",
              "      background-color: #E8F0FE;\n",
              "      border: none;\n",
              "      border-radius: 50%;\n",
              "      cursor: pointer;\n",
              "      display: none;\n",
              "      fill: #1967D2;\n",
              "      height: 32px;\n",
              "      padding: 0 0 0 0;\n",
              "      width: 32px;\n",
              "    }\n",
              "\n",
              "    .colab-df-convert:hover {\n",
              "      background-color: #E2EBFA;\n",
              "      box-shadow: 0px 1px 2px rgba(60, 64, 67, 0.3), 0px 1px 3px 1px rgba(60, 64, 67, 0.15);\n",
              "      fill: #174EA6;\n",
              "    }\n",
              "\n",
              "    .colab-df-buttons div {\n",
              "      margin-bottom: 4px;\n",
              "    }\n",
              "\n",
              "    [theme=dark] .colab-df-convert {\n",
              "      background-color: #3B4455;\n",
              "      fill: #D2E3FC;\n",
              "    }\n",
              "\n",
              "    [theme=dark] .colab-df-convert:hover {\n",
              "      background-color: #434B5C;\n",
              "      box-shadow: 0px 1px 3px 1px rgba(0, 0, 0, 0.15);\n",
              "      filter: drop-shadow(0px 1px 2px rgba(0, 0, 0, 0.3));\n",
              "      fill: #FFFFFF;\n",
              "    }\n",
              "  </style>\n",
              "\n",
              "    <script>\n",
              "      const buttonEl =\n",
              "        document.querySelector('#df-2479c42a-b227-4edb-9210-f420b2e91fe2 button.colab-df-convert');\n",
              "      buttonEl.style.display =\n",
              "        google.colab.kernel.accessAllowed ? 'block' : 'none';\n",
              "\n",
              "      async function convertToInteractive(key) {\n",
              "        const element = document.querySelector('#df-2479c42a-b227-4edb-9210-f420b2e91fe2');\n",
              "        const dataTable =\n",
              "          await google.colab.kernel.invokeFunction('convertToInteractive',\n",
              "                                                    [key], {});\n",
              "        if (!dataTable) return;\n",
              "\n",
              "        const docLinkHtml = 'Like what you see? Visit the ' +\n",
              "          '<a target=\"_blank\" href=https://colab.research.google.com/notebooks/data_table.ipynb>data table notebook</a>'\n",
              "          + ' to learn more about interactive tables.';\n",
              "        element.innerHTML = '';\n",
              "        dataTable['output_type'] = 'display_data';\n",
              "        await google.colab.output.renderOutput(dataTable, element);\n",
              "        const docLink = document.createElement('div');\n",
              "        docLink.innerHTML = docLinkHtml;\n",
              "        element.appendChild(docLink);\n",
              "      }\n",
              "    </script>\n",
              "  </div>\n",
              "\n",
              "\n",
              "<div id=\"df-2d23f3dc-772c-4680-8bc2-9fa1d47f87b5\">\n",
              "  <button class=\"colab-df-quickchart\" onclick=\"quickchart('df-2d23f3dc-772c-4680-8bc2-9fa1d47f87b5')\"\n",
              "            title=\"Suggest charts\"\n",
              "            style=\"display:none;\">\n",
              "\n",
              "<svg xmlns=\"http://www.w3.org/2000/svg\" height=\"24px\"viewBox=\"0 0 24 24\"\n",
              "     width=\"24px\">\n",
              "    <g>\n",
              "        <path d=\"M19 3H5c-1.1 0-2 .9-2 2v14c0 1.1.9 2 2 2h14c1.1 0 2-.9 2-2V5c0-1.1-.9-2-2-2zM9 17H7v-7h2v7zm4 0h-2V7h2v10zm4 0h-2v-4h2v4z\"/>\n",
              "    </g>\n",
              "</svg>\n",
              "  </button>\n",
              "\n",
              "<style>\n",
              "  .colab-df-quickchart {\n",
              "      --bg-color: #E8F0FE;\n",
              "      --fill-color: #1967D2;\n",
              "      --hover-bg-color: #E2EBFA;\n",
              "      --hover-fill-color: #174EA6;\n",
              "      --disabled-fill-color: #AAA;\n",
              "      --disabled-bg-color: #DDD;\n",
              "  }\n",
              "\n",
              "  [theme=dark] .colab-df-quickchart {\n",
              "      --bg-color: #3B4455;\n",
              "      --fill-color: #D2E3FC;\n",
              "      --hover-bg-color: #434B5C;\n",
              "      --hover-fill-color: #FFFFFF;\n",
              "      --disabled-bg-color: #3B4455;\n",
              "      --disabled-fill-color: #666;\n",
              "  }\n",
              "\n",
              "  .colab-df-quickchart {\n",
              "    background-color: var(--bg-color);\n",
              "    border: none;\n",
              "    border-radius: 50%;\n",
              "    cursor: pointer;\n",
              "    display: none;\n",
              "    fill: var(--fill-color);\n",
              "    height: 32px;\n",
              "    padding: 0;\n",
              "    width: 32px;\n",
              "  }\n",
              "\n",
              "  .colab-df-quickchart:hover {\n",
              "    background-color: var(--hover-bg-color);\n",
              "    box-shadow: 0 1px 2px rgba(60, 64, 67, 0.3), 0 1px 3px 1px rgba(60, 64, 67, 0.15);\n",
              "    fill: var(--button-hover-fill-color);\n",
              "  }\n",
              "\n",
              "  .colab-df-quickchart-complete:disabled,\n",
              "  .colab-df-quickchart-complete:disabled:hover {\n",
              "    background-color: var(--disabled-bg-color);\n",
              "    fill: var(--disabled-fill-color);\n",
              "    box-shadow: none;\n",
              "  }\n",
              "\n",
              "  .colab-df-spinner {\n",
              "    border: 2px solid var(--fill-color);\n",
              "    border-color: transparent;\n",
              "    border-bottom-color: var(--fill-color);\n",
              "    animation:\n",
              "      spin 1s steps(1) infinite;\n",
              "  }\n",
              "\n",
              "  @keyframes spin {\n",
              "    0% {\n",
              "      border-color: transparent;\n",
              "      border-bottom-color: var(--fill-color);\n",
              "      border-left-color: var(--fill-color);\n",
              "    }\n",
              "    20% {\n",
              "      border-color: transparent;\n",
              "      border-left-color: var(--fill-color);\n",
              "      border-top-color: var(--fill-color);\n",
              "    }\n",
              "    30% {\n",
              "      border-color: transparent;\n",
              "      border-left-color: var(--fill-color);\n",
              "      border-top-color: var(--fill-color);\n",
              "      border-right-color: var(--fill-color);\n",
              "    }\n",
              "    40% {\n",
              "      border-color: transparent;\n",
              "      border-right-color: var(--fill-color);\n",
              "      border-top-color: var(--fill-color);\n",
              "    }\n",
              "    60% {\n",
              "      border-color: transparent;\n",
              "      border-right-color: var(--fill-color);\n",
              "    }\n",
              "    80% {\n",
              "      border-color: transparent;\n",
              "      border-right-color: var(--fill-color);\n",
              "      border-bottom-color: var(--fill-color);\n",
              "    }\n",
              "    90% {\n",
              "      border-color: transparent;\n",
              "      border-bottom-color: var(--fill-color);\n",
              "    }\n",
              "  }\n",
              "</style>\n",
              "\n",
              "  <script>\n",
              "    async function quickchart(key) {\n",
              "      const quickchartButtonEl =\n",
              "        document.querySelector('#' + key + ' button');\n",
              "      quickchartButtonEl.disabled = true;  // To prevent multiple clicks.\n",
              "      quickchartButtonEl.classList.add('colab-df-spinner');\n",
              "      try {\n",
              "        const charts = await google.colab.kernel.invokeFunction(\n",
              "            'suggestCharts', [key], {});\n",
              "      } catch (error) {\n",
              "        console.error('Error during call to suggestCharts:', error);\n",
              "      }\n",
              "      quickchartButtonEl.classList.remove('colab-df-spinner');\n",
              "      quickchartButtonEl.classList.add('colab-df-quickchart-complete');\n",
              "    }\n",
              "    (() => {\n",
              "      let quickchartButtonEl =\n",
              "        document.querySelector('#df-2d23f3dc-772c-4680-8bc2-9fa1d47f87b5 button');\n",
              "      quickchartButtonEl.style.display =\n",
              "        google.colab.kernel.accessAllowed ? 'block' : 'none';\n",
              "    })();\n",
              "  </script>\n",
              "</div>\n",
              "    </div>\n",
              "  </div>\n"
            ],
            "application/vnd.google.colaboratory.intrinsic+json": {
              "type": "dataframe",
              "variable_name": "papers",
              "summary": "{\n  \"name\": \"papers\",\n  \"rows\": 15000,\n  \"fields\": [\n    {\n      \"column\": \"Abstract\",\n      \"properties\": {\n        \"dtype\": \"string\",\n        \"num_unique_values\": 13833,\n        \"samples\": [\n          \"Different and profound are the consequences of the further development of artificial intelligence (AI) on society. One of the manifestations of the upcoming changes is the plethora of novel ways in which companies may organize labor and capital. So far, the influence of AI on organizational structure has been mainly studied from either a technological or a broader decision-making perspective. Our paper provides a unique take on the topic, emphasizing the distinctive role of human agency and its function in the upcoming AI-driven organizational changes. Relying on the existing academic literature, we theorized a set of hypotheses concerning best fits to the AI contingency on both macro and meso-organizational levels. To test whether the hypothesized changes might encounter organizational inertia or resistance from jobholders, multiple correspondence analysis (MCA) was applied to the online survey results. Four types of current and potential jobholders were distinguished according to their explicit attitudes towards hypothesized organizational changes: Skeptics, doubtful skeptics, optimists, and doubtful optimists, the latter consisting primarily of emerging adults. Finally, we developed a model of intraorganizational response to the AI contingency based on four theoretical groups of individuals, as determined by the analysis. Our findings showed doubtful optimists to be the most important group, able to set organizational trends and positively influence skeptics and doubtful skeptics. Accordingly, promoters of AI-driven organizational changes are advised to design their communication efforts around emerging adults. As the survey was conducted amid the COVID-19 pandemic, its sociological and managerial implications are relevant to the looming reality of the postpandemic world. \\u00a9 2021 by the authors. Licensee MDPI, Basel, Switzerland.\",\n          \"With the advent of the metaverse, the future 3D spatial Internet will be about being inside the Internet rather than simply looking at it from a 2D computer or smartphone screen. This article aims at exploring the sociality dimension, AI integration in eXtended meta-uni-omni-Verse, and stigmergy principles. It puts a particular focus on the unifying design of virtual, embodied, intelligent cross-reality environments, ranging from our proposed stigmergic Society 5.0 to Interbeing based on the symbiosis between Inter(net) and (human) being word that is not in the dictionary yet. In addition to tokenized digital twins, we leverage on hyperintelligent life-like digital organisms that symbiomimic biological superorganisms. In doing so, they lay the foundation for creating a future stigmergic virtual society that benefits from the convergence of digital evolution and biology as well as advanced eXtended Reality wearables for tapping into the entire reality-virtuality continuum of the metaverse's emerging virtual society.  \\u00a9 2012 IEEE.\",\n          \"Many experts project generative AI will impact the types of competencies that are valued among working professionals. This is the first known academic study to explore the views of business practitioners about the impacts of generative AI on skill sets. This survey of 692 business practitioners showed that business practitioners widely use generative AI, with the most common uses involving research and ideation, drafting of business messages and reports, and summarizing and revising text. Business practitioners report that character-based traits such as integrity and soft skills will become more important. Implications for teaching business communication are discussed. \\u00a9 2023 by the Association for Business Communication.\"\n        ],\n        \"semantic_type\": \"\",\n        \"description\": \"\"\n      }\n    },\n    {\n      \"column\": \"Subject\",\n      \"properties\": {\n        \"dtype\": \"category\",\n        \"num_unique_values\": 3,\n        \"samples\": [\n          \"Computer science and engineering\",\n          \"Mathematics\",\n          \"Business\"\n        ],\n        \"semantic_type\": \"\",\n        \"description\": \"\"\n      }\n    }\n  ]\n}"
            }
          },
          "metadata": {},
          "execution_count": 53
        }
      ]
    },
    {
      "cell_type": "code",
      "source": [
        "#Assign Label\n",
        "\n",
        "def assign_label(subject):\n",
        "    if subject == \"Business\":\n",
        "        return 0\n",
        "    elif subject == \"Computer science and engineering\":\n",
        "        return 1\n",
        "    elif subject == \"Mathematics\":\n",
        "        return 2\n",
        "    else:\n",
        "        return None  # Handle other cases if needed\n",
        "\n",
        "# Apply the function to your DataFrame\n",
        "papers[\"label\"] = papers[\"Subject\"].apply(assign_label)\n",
        "\n",
        "\n",
        "papers.tail()"
      ],
      "metadata": {
        "colab": {
          "base_uri": "https://localhost:8080/",
          "height": 206
        },
        "id": "btduNozQqsDM",
        "outputId": "8fd2567e-7b1d-4616-de09-21527941b839"
      },
      "execution_count": 54,
      "outputs": [
        {
          "output_type": "execute_result",
          "data": {
            "text/plain": [
              "                                                Abstract   Subject  label\n",
              "14995  In the recent past, the rise of hundreds of ‘A...  Business      0\n",
              "14996  Research on AI has gained momentum in recent y...  Business      0\n",
              "14997  In contrast to point forecasting, interval for...  Business      0\n",
              "14998  Worldwide investments in influencer marketing ...  Business      0\n",
              "14999  The primary aim of this systematic literature ...  Business      0"
            ],
            "text/html": [
              "\n",
              "  <div id=\"df-52a10bd3-9bcc-4200-849a-dfc685698654\" class=\"colab-df-container\">\n",
              "    <div>\n",
              "<style scoped>\n",
              "    .dataframe tbody tr th:only-of-type {\n",
              "        vertical-align: middle;\n",
              "    }\n",
              "\n",
              "    .dataframe tbody tr th {\n",
              "        vertical-align: top;\n",
              "    }\n",
              "\n",
              "    .dataframe thead th {\n",
              "        text-align: right;\n",
              "    }\n",
              "</style>\n",
              "<table border=\"1\" class=\"dataframe\">\n",
              "  <thead>\n",
              "    <tr style=\"text-align: right;\">\n",
              "      <th></th>\n",
              "      <th>Abstract</th>\n",
              "      <th>Subject</th>\n",
              "      <th>label</th>\n",
              "    </tr>\n",
              "  </thead>\n",
              "  <tbody>\n",
              "    <tr>\n",
              "      <th>14995</th>\n",
              "      <td>In the recent past, the rise of hundreds of ‘A...</td>\n",
              "      <td>Business</td>\n",
              "      <td>0</td>\n",
              "    </tr>\n",
              "    <tr>\n",
              "      <th>14996</th>\n",
              "      <td>Research on AI has gained momentum in recent y...</td>\n",
              "      <td>Business</td>\n",
              "      <td>0</td>\n",
              "    </tr>\n",
              "    <tr>\n",
              "      <th>14997</th>\n",
              "      <td>In contrast to point forecasting, interval for...</td>\n",
              "      <td>Business</td>\n",
              "      <td>0</td>\n",
              "    </tr>\n",
              "    <tr>\n",
              "      <th>14998</th>\n",
              "      <td>Worldwide investments in influencer marketing ...</td>\n",
              "      <td>Business</td>\n",
              "      <td>0</td>\n",
              "    </tr>\n",
              "    <tr>\n",
              "      <th>14999</th>\n",
              "      <td>The primary aim of this systematic literature ...</td>\n",
              "      <td>Business</td>\n",
              "      <td>0</td>\n",
              "    </tr>\n",
              "  </tbody>\n",
              "</table>\n",
              "</div>\n",
              "    <div class=\"colab-df-buttons\">\n",
              "\n",
              "  <div class=\"colab-df-container\">\n",
              "    <button class=\"colab-df-convert\" onclick=\"convertToInteractive('df-52a10bd3-9bcc-4200-849a-dfc685698654')\"\n",
              "            title=\"Convert this dataframe to an interactive table.\"\n",
              "            style=\"display:none;\">\n",
              "\n",
              "  <svg xmlns=\"http://www.w3.org/2000/svg\" height=\"24px\" viewBox=\"0 -960 960 960\">\n",
              "    <path d=\"M120-120v-720h720v720H120Zm60-500h600v-160H180v160Zm220 220h160v-160H400v160Zm0 220h160v-160H400v160ZM180-400h160v-160H180v160Zm440 0h160v-160H620v160ZM180-180h160v-160H180v160Zm440 0h160v-160H620v160Z\"/>\n",
              "  </svg>\n",
              "    </button>\n",
              "\n",
              "  <style>\n",
              "    .colab-df-container {\n",
              "      display:flex;\n",
              "      gap: 12px;\n",
              "    }\n",
              "\n",
              "    .colab-df-convert {\n",
              "      background-color: #E8F0FE;\n",
              "      border: none;\n",
              "      border-radius: 50%;\n",
              "      cursor: pointer;\n",
              "      display: none;\n",
              "      fill: #1967D2;\n",
              "      height: 32px;\n",
              "      padding: 0 0 0 0;\n",
              "      width: 32px;\n",
              "    }\n",
              "\n",
              "    .colab-df-convert:hover {\n",
              "      background-color: #E2EBFA;\n",
              "      box-shadow: 0px 1px 2px rgba(60, 64, 67, 0.3), 0px 1px 3px 1px rgba(60, 64, 67, 0.15);\n",
              "      fill: #174EA6;\n",
              "    }\n",
              "\n",
              "    .colab-df-buttons div {\n",
              "      margin-bottom: 4px;\n",
              "    }\n",
              "\n",
              "    [theme=dark] .colab-df-convert {\n",
              "      background-color: #3B4455;\n",
              "      fill: #D2E3FC;\n",
              "    }\n",
              "\n",
              "    [theme=dark] .colab-df-convert:hover {\n",
              "      background-color: #434B5C;\n",
              "      box-shadow: 0px 1px 3px 1px rgba(0, 0, 0, 0.15);\n",
              "      filter: drop-shadow(0px 1px 2px rgba(0, 0, 0, 0.3));\n",
              "      fill: #FFFFFF;\n",
              "    }\n",
              "  </style>\n",
              "\n",
              "    <script>\n",
              "      const buttonEl =\n",
              "        document.querySelector('#df-52a10bd3-9bcc-4200-849a-dfc685698654 button.colab-df-convert');\n",
              "      buttonEl.style.display =\n",
              "        google.colab.kernel.accessAllowed ? 'block' : 'none';\n",
              "\n",
              "      async function convertToInteractive(key) {\n",
              "        const element = document.querySelector('#df-52a10bd3-9bcc-4200-849a-dfc685698654');\n",
              "        const dataTable =\n",
              "          await google.colab.kernel.invokeFunction('convertToInteractive',\n",
              "                                                    [key], {});\n",
              "        if (!dataTable) return;\n",
              "\n",
              "        const docLinkHtml = 'Like what you see? Visit the ' +\n",
              "          '<a target=\"_blank\" href=https://colab.research.google.com/notebooks/data_table.ipynb>data table notebook</a>'\n",
              "          + ' to learn more about interactive tables.';\n",
              "        element.innerHTML = '';\n",
              "        dataTable['output_type'] = 'display_data';\n",
              "        await google.colab.output.renderOutput(dataTable, element);\n",
              "        const docLink = document.createElement('div');\n",
              "        docLink.innerHTML = docLinkHtml;\n",
              "        element.appendChild(docLink);\n",
              "      }\n",
              "    </script>\n",
              "  </div>\n",
              "\n",
              "\n",
              "<div id=\"df-b3f2fb99-d030-489c-8925-f0b316ad5c11\">\n",
              "  <button class=\"colab-df-quickchart\" onclick=\"quickchart('df-b3f2fb99-d030-489c-8925-f0b316ad5c11')\"\n",
              "            title=\"Suggest charts\"\n",
              "            style=\"display:none;\">\n",
              "\n",
              "<svg xmlns=\"http://www.w3.org/2000/svg\" height=\"24px\"viewBox=\"0 0 24 24\"\n",
              "     width=\"24px\">\n",
              "    <g>\n",
              "        <path d=\"M19 3H5c-1.1 0-2 .9-2 2v14c0 1.1.9 2 2 2h14c1.1 0 2-.9 2-2V5c0-1.1-.9-2-2-2zM9 17H7v-7h2v7zm4 0h-2V7h2v10zm4 0h-2v-4h2v4z\"/>\n",
              "    </g>\n",
              "</svg>\n",
              "  </button>\n",
              "\n",
              "<style>\n",
              "  .colab-df-quickchart {\n",
              "      --bg-color: #E8F0FE;\n",
              "      --fill-color: #1967D2;\n",
              "      --hover-bg-color: #E2EBFA;\n",
              "      --hover-fill-color: #174EA6;\n",
              "      --disabled-fill-color: #AAA;\n",
              "      --disabled-bg-color: #DDD;\n",
              "  }\n",
              "\n",
              "  [theme=dark] .colab-df-quickchart {\n",
              "      --bg-color: #3B4455;\n",
              "      --fill-color: #D2E3FC;\n",
              "      --hover-bg-color: #434B5C;\n",
              "      --hover-fill-color: #FFFFFF;\n",
              "      --disabled-bg-color: #3B4455;\n",
              "      --disabled-fill-color: #666;\n",
              "  }\n",
              "\n",
              "  .colab-df-quickchart {\n",
              "    background-color: var(--bg-color);\n",
              "    border: none;\n",
              "    border-radius: 50%;\n",
              "    cursor: pointer;\n",
              "    display: none;\n",
              "    fill: var(--fill-color);\n",
              "    height: 32px;\n",
              "    padding: 0;\n",
              "    width: 32px;\n",
              "  }\n",
              "\n",
              "  .colab-df-quickchart:hover {\n",
              "    background-color: var(--hover-bg-color);\n",
              "    box-shadow: 0 1px 2px rgba(60, 64, 67, 0.3), 0 1px 3px 1px rgba(60, 64, 67, 0.15);\n",
              "    fill: var(--button-hover-fill-color);\n",
              "  }\n",
              "\n",
              "  .colab-df-quickchart-complete:disabled,\n",
              "  .colab-df-quickchart-complete:disabled:hover {\n",
              "    background-color: var(--disabled-bg-color);\n",
              "    fill: var(--disabled-fill-color);\n",
              "    box-shadow: none;\n",
              "  }\n",
              "\n",
              "  .colab-df-spinner {\n",
              "    border: 2px solid var(--fill-color);\n",
              "    border-color: transparent;\n",
              "    border-bottom-color: var(--fill-color);\n",
              "    animation:\n",
              "      spin 1s steps(1) infinite;\n",
              "  }\n",
              "\n",
              "  @keyframes spin {\n",
              "    0% {\n",
              "      border-color: transparent;\n",
              "      border-bottom-color: var(--fill-color);\n",
              "      border-left-color: var(--fill-color);\n",
              "    }\n",
              "    20% {\n",
              "      border-color: transparent;\n",
              "      border-left-color: var(--fill-color);\n",
              "      border-top-color: var(--fill-color);\n",
              "    }\n",
              "    30% {\n",
              "      border-color: transparent;\n",
              "      border-left-color: var(--fill-color);\n",
              "      border-top-color: var(--fill-color);\n",
              "      border-right-color: var(--fill-color);\n",
              "    }\n",
              "    40% {\n",
              "      border-color: transparent;\n",
              "      border-right-color: var(--fill-color);\n",
              "      border-top-color: var(--fill-color);\n",
              "    }\n",
              "    60% {\n",
              "      border-color: transparent;\n",
              "      border-right-color: var(--fill-color);\n",
              "    }\n",
              "    80% {\n",
              "      border-color: transparent;\n",
              "      border-right-color: var(--fill-color);\n",
              "      border-bottom-color: var(--fill-color);\n",
              "    }\n",
              "    90% {\n",
              "      border-color: transparent;\n",
              "      border-bottom-color: var(--fill-color);\n",
              "    }\n",
              "  }\n",
              "</style>\n",
              "\n",
              "  <script>\n",
              "    async function quickchart(key) {\n",
              "      const quickchartButtonEl =\n",
              "        document.querySelector('#' + key + ' button');\n",
              "      quickchartButtonEl.disabled = true;  // To prevent multiple clicks.\n",
              "      quickchartButtonEl.classList.add('colab-df-spinner');\n",
              "      try {\n",
              "        const charts = await google.colab.kernel.invokeFunction(\n",
              "            'suggestCharts', [key], {});\n",
              "      } catch (error) {\n",
              "        console.error('Error during call to suggestCharts:', error);\n",
              "      }\n",
              "      quickchartButtonEl.classList.remove('colab-df-spinner');\n",
              "      quickchartButtonEl.classList.add('colab-df-quickchart-complete');\n",
              "    }\n",
              "    (() => {\n",
              "      let quickchartButtonEl =\n",
              "        document.querySelector('#df-b3f2fb99-d030-489c-8925-f0b316ad5c11 button');\n",
              "      quickchartButtonEl.style.display =\n",
              "        google.colab.kernel.accessAllowed ? 'block' : 'none';\n",
              "    })();\n",
              "  </script>\n",
              "</div>\n",
              "    </div>\n",
              "  </div>\n"
            ],
            "application/vnd.google.colaboratory.intrinsic+json": {
              "type": "dataframe",
              "summary": "{\n  \"name\": \"papers\",\n  \"rows\": 5,\n  \"fields\": [\n    {\n      \"column\": \"Abstract\",\n      \"properties\": {\n        \"dtype\": \"string\",\n        \"num_unique_values\": 5,\n        \"samples\": [\n          \"Research on AI has gained momentum in recent years. Many scholars and practitioners have been increasingly highlighting the dark sides of AI, particularly related to algorithm bias.. This study elucidates situations in which AI-enabled analytics systems make biased decisions against customers based on gender, race, religion, age, nationality, or socioeconomic status. Based on a systematic literature review, this research proposes two approaches (i.e., a priori and post-hoc) to overcome such biases in customer management. As part of a priori approach, the findings suggest scientific, application, stakeholder, and assurance consistencies. With regard to the post-hoc approach, the findings recommend six steps: bias identification, review of extant findings, selection of the right variables, responsible and ethical model development, data analysis, and action on insights. Overall, this study contributes to the ethical and responsible use of AI applications. \\u00a9 2021 IGI Global. All rights reserved.\",\n          \"The primary aim of this systematic literature review (SLR) was to identify, assess and synthesize the extant evidence about the opportunities and challenges concerning the use of Artificial Intelligence (AI) in the banking sector. From the SLR, it is evident that AI has several opportunities for the sector. There are many fin-tech start-ups that offer banking AI solutions, and banking regulators are fostering AI adoption through legislation and collaboration. Other opportunities include the following: personalized services, smart wallets, decision-making and problem-solving, customer satisfaction and loyalty, process automation (especially targeting repetitive tasks), transactional security and cybersecurity improvements, and promotion of digital financial inclusion. Nevertheless, the key banking industry stakeholders have to formulate appropriate strategies aimed at overcoming existing and prospect AI challenges. Among the AI challenges that should be prioritized we include the following: job loss and user acceptance concerns, privacy breaches, creativity and adaptability loss, restrictive implementation and operational requirements, digital divide, availability of vast quality data, AI-business strategy alignment, and loss of emotional \\u201chuman touch\\u201d. However, existing studies are largely descriptive and based on secondary sources of data. This necessitates empirical studies to expand the existing body of knowledge regarding AI opportunities and challenges in the banking industry. \\u00a9 2021. Ahmad Ghandour; published by UIKTEN. This work is licensed under the Creative Commons Attribution-NonCommercial-NoDerivs 4.0 License.\",\n          \"In contrast to point forecasting, interval forecasting provides the degree of variation associated with forecasts. Accurate forecasting can help governments formulate policies for tourism, but little attention has been paid to interval forecasting of tourism demand. This study contributes to apply neural networks to develop interval models for tourism demand forecasting. Since combined forecasts are likely to improve the accuracy of point forecasting, forecast combinations are used to construct the proposed models. Besides, grey prediction models without requiring that data follow any statistical assumption serve as constituent models. Empirical results show that the proposed models outperform other considered interval models. \\u00a9 2021 Asia Pacific Tourism Association.\"\n        ],\n        \"semantic_type\": \"\",\n        \"description\": \"\"\n      }\n    },\n    {\n      \"column\": \"Subject\",\n      \"properties\": {\n        \"dtype\": \"category\",\n        \"num_unique_values\": 1,\n        \"samples\": [\n          \"Business\"\n        ],\n        \"semantic_type\": \"\",\n        \"description\": \"\"\n      }\n    },\n    {\n      \"column\": \"label\",\n      \"properties\": {\n        \"dtype\": \"number\",\n        \"std\": 0,\n        \"min\": 0,\n        \"max\": 0,\n        \"num_unique_values\": 1,\n        \"samples\": [\n          0\n        ],\n        \"semantic_type\": \"\",\n        \"description\": \"\"\n      }\n    }\n  ]\n}"
            }
          },
          "metadata": {},
          "execution_count": 54
        }
      ]
    },
    {
      "cell_type": "code",
      "source": [
        "# Drop Subject column\n",
        "\n",
        "papers = papers.drop(columns=['Subject'], axis=1)\n",
        "\n",
        "#print out the first five rows of papers\n",
        "papers.head()"
      ],
      "metadata": {
        "colab": {
          "base_uri": "https://localhost:8080/",
          "height": 206
        },
        "id": "E1WXdDUoquS3",
        "outputId": "82f509e6-d22f-4c8f-c096-9bdc78ca606e"
      },
      "execution_count": 55,
      "outputs": [
        {
          "output_type": "execute_result",
          "data": {
            "text/plain": [
              "                                            Abstract  label\n",
              "0  In computer artificial intelligence, there is ...      1\n",
              "1  Artificial intelligence (AI) holds significant...      1\n",
              "2  The influence of Artificial Intelligence on hi...      1\n",
              "3  Background: Benign paroxysmal positional verti...      1\n",
              "4  Space-air-ground integrated networks comprise ...      1"
            ],
            "text/html": [
              "\n",
              "  <div id=\"df-34d95399-ec1a-4411-9018-489853315b88\" class=\"colab-df-container\">\n",
              "    <div>\n",
              "<style scoped>\n",
              "    .dataframe tbody tr th:only-of-type {\n",
              "        vertical-align: middle;\n",
              "    }\n",
              "\n",
              "    .dataframe tbody tr th {\n",
              "        vertical-align: top;\n",
              "    }\n",
              "\n",
              "    .dataframe thead th {\n",
              "        text-align: right;\n",
              "    }\n",
              "</style>\n",
              "<table border=\"1\" class=\"dataframe\">\n",
              "  <thead>\n",
              "    <tr style=\"text-align: right;\">\n",
              "      <th></th>\n",
              "      <th>Abstract</th>\n",
              "      <th>label</th>\n",
              "    </tr>\n",
              "  </thead>\n",
              "  <tbody>\n",
              "    <tr>\n",
              "      <th>0</th>\n",
              "      <td>In computer artificial intelligence, there is ...</td>\n",
              "      <td>1</td>\n",
              "    </tr>\n",
              "    <tr>\n",
              "      <th>1</th>\n",
              "      <td>Artificial intelligence (AI) holds significant...</td>\n",
              "      <td>1</td>\n",
              "    </tr>\n",
              "    <tr>\n",
              "      <th>2</th>\n",
              "      <td>The influence of Artificial Intelligence on hi...</td>\n",
              "      <td>1</td>\n",
              "    </tr>\n",
              "    <tr>\n",
              "      <th>3</th>\n",
              "      <td>Background: Benign paroxysmal positional verti...</td>\n",
              "      <td>1</td>\n",
              "    </tr>\n",
              "    <tr>\n",
              "      <th>4</th>\n",
              "      <td>Space-air-ground integrated networks comprise ...</td>\n",
              "      <td>1</td>\n",
              "    </tr>\n",
              "  </tbody>\n",
              "</table>\n",
              "</div>\n",
              "    <div class=\"colab-df-buttons\">\n",
              "\n",
              "  <div class=\"colab-df-container\">\n",
              "    <button class=\"colab-df-convert\" onclick=\"convertToInteractive('df-34d95399-ec1a-4411-9018-489853315b88')\"\n",
              "            title=\"Convert this dataframe to an interactive table.\"\n",
              "            style=\"display:none;\">\n",
              "\n",
              "  <svg xmlns=\"http://www.w3.org/2000/svg\" height=\"24px\" viewBox=\"0 -960 960 960\">\n",
              "    <path d=\"M120-120v-720h720v720H120Zm60-500h600v-160H180v160Zm220 220h160v-160H400v160Zm0 220h160v-160H400v160ZM180-400h160v-160H180v160Zm440 0h160v-160H620v160ZM180-180h160v-160H180v160Zm440 0h160v-160H620v160Z\"/>\n",
              "  </svg>\n",
              "    </button>\n",
              "\n",
              "  <style>\n",
              "    .colab-df-container {\n",
              "      display:flex;\n",
              "      gap: 12px;\n",
              "    }\n",
              "\n",
              "    .colab-df-convert {\n",
              "      background-color: #E8F0FE;\n",
              "      border: none;\n",
              "      border-radius: 50%;\n",
              "      cursor: pointer;\n",
              "      display: none;\n",
              "      fill: #1967D2;\n",
              "      height: 32px;\n",
              "      padding: 0 0 0 0;\n",
              "      width: 32px;\n",
              "    }\n",
              "\n",
              "    .colab-df-convert:hover {\n",
              "      background-color: #E2EBFA;\n",
              "      box-shadow: 0px 1px 2px rgba(60, 64, 67, 0.3), 0px 1px 3px 1px rgba(60, 64, 67, 0.15);\n",
              "      fill: #174EA6;\n",
              "    }\n",
              "\n",
              "    .colab-df-buttons div {\n",
              "      margin-bottom: 4px;\n",
              "    }\n",
              "\n",
              "    [theme=dark] .colab-df-convert {\n",
              "      background-color: #3B4455;\n",
              "      fill: #D2E3FC;\n",
              "    }\n",
              "\n",
              "    [theme=dark] .colab-df-convert:hover {\n",
              "      background-color: #434B5C;\n",
              "      box-shadow: 0px 1px 3px 1px rgba(0, 0, 0, 0.15);\n",
              "      filter: drop-shadow(0px 1px 2px rgba(0, 0, 0, 0.3));\n",
              "      fill: #FFFFFF;\n",
              "    }\n",
              "  </style>\n",
              "\n",
              "    <script>\n",
              "      const buttonEl =\n",
              "        document.querySelector('#df-34d95399-ec1a-4411-9018-489853315b88 button.colab-df-convert');\n",
              "      buttonEl.style.display =\n",
              "        google.colab.kernel.accessAllowed ? 'block' : 'none';\n",
              "\n",
              "      async function convertToInteractive(key) {\n",
              "        const element = document.querySelector('#df-34d95399-ec1a-4411-9018-489853315b88');\n",
              "        const dataTable =\n",
              "          await google.colab.kernel.invokeFunction('convertToInteractive',\n",
              "                                                    [key], {});\n",
              "        if (!dataTable) return;\n",
              "\n",
              "        const docLinkHtml = 'Like what you see? Visit the ' +\n",
              "          '<a target=\"_blank\" href=https://colab.research.google.com/notebooks/data_table.ipynb>data table notebook</a>'\n",
              "          + ' to learn more about interactive tables.';\n",
              "        element.innerHTML = '';\n",
              "        dataTable['output_type'] = 'display_data';\n",
              "        await google.colab.output.renderOutput(dataTable, element);\n",
              "        const docLink = document.createElement('div');\n",
              "        docLink.innerHTML = docLinkHtml;\n",
              "        element.appendChild(docLink);\n",
              "      }\n",
              "    </script>\n",
              "  </div>\n",
              "\n",
              "\n",
              "<div id=\"df-ece05fc9-6fae-4c90-a380-b3075ce818fe\">\n",
              "  <button class=\"colab-df-quickchart\" onclick=\"quickchart('df-ece05fc9-6fae-4c90-a380-b3075ce818fe')\"\n",
              "            title=\"Suggest charts\"\n",
              "            style=\"display:none;\">\n",
              "\n",
              "<svg xmlns=\"http://www.w3.org/2000/svg\" height=\"24px\"viewBox=\"0 0 24 24\"\n",
              "     width=\"24px\">\n",
              "    <g>\n",
              "        <path d=\"M19 3H5c-1.1 0-2 .9-2 2v14c0 1.1.9 2 2 2h14c1.1 0 2-.9 2-2V5c0-1.1-.9-2-2-2zM9 17H7v-7h2v7zm4 0h-2V7h2v10zm4 0h-2v-4h2v4z\"/>\n",
              "    </g>\n",
              "</svg>\n",
              "  </button>\n",
              "\n",
              "<style>\n",
              "  .colab-df-quickchart {\n",
              "      --bg-color: #E8F0FE;\n",
              "      --fill-color: #1967D2;\n",
              "      --hover-bg-color: #E2EBFA;\n",
              "      --hover-fill-color: #174EA6;\n",
              "      --disabled-fill-color: #AAA;\n",
              "      --disabled-bg-color: #DDD;\n",
              "  }\n",
              "\n",
              "  [theme=dark] .colab-df-quickchart {\n",
              "      --bg-color: #3B4455;\n",
              "      --fill-color: #D2E3FC;\n",
              "      --hover-bg-color: #434B5C;\n",
              "      --hover-fill-color: #FFFFFF;\n",
              "      --disabled-bg-color: #3B4455;\n",
              "      --disabled-fill-color: #666;\n",
              "  }\n",
              "\n",
              "  .colab-df-quickchart {\n",
              "    background-color: var(--bg-color);\n",
              "    border: none;\n",
              "    border-radius: 50%;\n",
              "    cursor: pointer;\n",
              "    display: none;\n",
              "    fill: var(--fill-color);\n",
              "    height: 32px;\n",
              "    padding: 0;\n",
              "    width: 32px;\n",
              "  }\n",
              "\n",
              "  .colab-df-quickchart:hover {\n",
              "    background-color: var(--hover-bg-color);\n",
              "    box-shadow: 0 1px 2px rgba(60, 64, 67, 0.3), 0 1px 3px 1px rgba(60, 64, 67, 0.15);\n",
              "    fill: var(--button-hover-fill-color);\n",
              "  }\n",
              "\n",
              "  .colab-df-quickchart-complete:disabled,\n",
              "  .colab-df-quickchart-complete:disabled:hover {\n",
              "    background-color: var(--disabled-bg-color);\n",
              "    fill: var(--disabled-fill-color);\n",
              "    box-shadow: none;\n",
              "  }\n",
              "\n",
              "  .colab-df-spinner {\n",
              "    border: 2px solid var(--fill-color);\n",
              "    border-color: transparent;\n",
              "    border-bottom-color: var(--fill-color);\n",
              "    animation:\n",
              "      spin 1s steps(1) infinite;\n",
              "  }\n",
              "\n",
              "  @keyframes spin {\n",
              "    0% {\n",
              "      border-color: transparent;\n",
              "      border-bottom-color: var(--fill-color);\n",
              "      border-left-color: var(--fill-color);\n",
              "    }\n",
              "    20% {\n",
              "      border-color: transparent;\n",
              "      border-left-color: var(--fill-color);\n",
              "      border-top-color: var(--fill-color);\n",
              "    }\n",
              "    30% {\n",
              "      border-color: transparent;\n",
              "      border-left-color: var(--fill-color);\n",
              "      border-top-color: var(--fill-color);\n",
              "      border-right-color: var(--fill-color);\n",
              "    }\n",
              "    40% {\n",
              "      border-color: transparent;\n",
              "      border-right-color: var(--fill-color);\n",
              "      border-top-color: var(--fill-color);\n",
              "    }\n",
              "    60% {\n",
              "      border-color: transparent;\n",
              "      border-right-color: var(--fill-color);\n",
              "    }\n",
              "    80% {\n",
              "      border-color: transparent;\n",
              "      border-right-color: var(--fill-color);\n",
              "      border-bottom-color: var(--fill-color);\n",
              "    }\n",
              "    90% {\n",
              "      border-color: transparent;\n",
              "      border-bottom-color: var(--fill-color);\n",
              "    }\n",
              "  }\n",
              "</style>\n",
              "\n",
              "  <script>\n",
              "    async function quickchart(key) {\n",
              "      const quickchartButtonEl =\n",
              "        document.querySelector('#' + key + ' button');\n",
              "      quickchartButtonEl.disabled = true;  // To prevent multiple clicks.\n",
              "      quickchartButtonEl.classList.add('colab-df-spinner');\n",
              "      try {\n",
              "        const charts = await google.colab.kernel.invokeFunction(\n",
              "            'suggestCharts', [key], {});\n",
              "      } catch (error) {\n",
              "        console.error('Error during call to suggestCharts:', error);\n",
              "      }\n",
              "      quickchartButtonEl.classList.remove('colab-df-spinner');\n",
              "      quickchartButtonEl.classList.add('colab-df-quickchart-complete');\n",
              "    }\n",
              "    (() => {\n",
              "      let quickchartButtonEl =\n",
              "        document.querySelector('#df-ece05fc9-6fae-4c90-a380-b3075ce818fe button');\n",
              "      quickchartButtonEl.style.display =\n",
              "        google.colab.kernel.accessAllowed ? 'block' : 'none';\n",
              "    })();\n",
              "  </script>\n",
              "</div>\n",
              "    </div>\n",
              "  </div>\n"
            ],
            "application/vnd.google.colaboratory.intrinsic+json": {
              "type": "dataframe",
              "variable_name": "papers",
              "summary": "{\n  \"name\": \"papers\",\n  \"rows\": 15000,\n  \"fields\": [\n    {\n      \"column\": \"Abstract\",\n      \"properties\": {\n        \"dtype\": \"string\",\n        \"num_unique_values\": 13833,\n        \"samples\": [\n          \"Different and profound are the consequences of the further development of artificial intelligence (AI) on society. One of the manifestations of the upcoming changes is the plethora of novel ways in which companies may organize labor and capital. So far, the influence of AI on organizational structure has been mainly studied from either a technological or a broader decision-making perspective. Our paper provides a unique take on the topic, emphasizing the distinctive role of human agency and its function in the upcoming AI-driven organizational changes. Relying on the existing academic literature, we theorized a set of hypotheses concerning best fits to the AI contingency on both macro and meso-organizational levels. To test whether the hypothesized changes might encounter organizational inertia or resistance from jobholders, multiple correspondence analysis (MCA) was applied to the online survey results. Four types of current and potential jobholders were distinguished according to their explicit attitudes towards hypothesized organizational changes: Skeptics, doubtful skeptics, optimists, and doubtful optimists, the latter consisting primarily of emerging adults. Finally, we developed a model of intraorganizational response to the AI contingency based on four theoretical groups of individuals, as determined by the analysis. Our findings showed doubtful optimists to be the most important group, able to set organizational trends and positively influence skeptics and doubtful skeptics. Accordingly, promoters of AI-driven organizational changes are advised to design their communication efforts around emerging adults. As the survey was conducted amid the COVID-19 pandemic, its sociological and managerial implications are relevant to the looming reality of the postpandemic world. \\u00a9 2021 by the authors. Licensee MDPI, Basel, Switzerland.\",\n          \"With the advent of the metaverse, the future 3D spatial Internet will be about being inside the Internet rather than simply looking at it from a 2D computer or smartphone screen. This article aims at exploring the sociality dimension, AI integration in eXtended meta-uni-omni-Verse, and stigmergy principles. It puts a particular focus on the unifying design of virtual, embodied, intelligent cross-reality environments, ranging from our proposed stigmergic Society 5.0 to Interbeing based on the symbiosis between Inter(net) and (human) being word that is not in the dictionary yet. In addition to tokenized digital twins, we leverage on hyperintelligent life-like digital organisms that symbiomimic biological superorganisms. In doing so, they lay the foundation for creating a future stigmergic virtual society that benefits from the convergence of digital evolution and biology as well as advanced eXtended Reality wearables for tapping into the entire reality-virtuality continuum of the metaverse's emerging virtual society.  \\u00a9 2012 IEEE.\",\n          \"Many experts project generative AI will impact the types of competencies that are valued among working professionals. This is the first known academic study to explore the views of business practitioners about the impacts of generative AI on skill sets. This survey of 692 business practitioners showed that business practitioners widely use generative AI, with the most common uses involving research and ideation, drafting of business messages and reports, and summarizing and revising text. Business practitioners report that character-based traits such as integrity and soft skills will become more important. Implications for teaching business communication are discussed. \\u00a9 2023 by the Association for Business Communication.\"\n        ],\n        \"semantic_type\": \"\",\n        \"description\": \"\"\n      }\n    },\n    {\n      \"column\": \"label\",\n      \"properties\": {\n        \"dtype\": \"number\",\n        \"std\": 0,\n        \"min\": 0,\n        \"max\": 2,\n        \"num_unique_values\": 3,\n        \"samples\": [\n          1,\n          2,\n          0\n        ],\n        \"semantic_type\": \"\",\n        \"description\": \"\"\n      }\n    }\n  ]\n}"
            }
          },
          "metadata": {},
          "execution_count": 55
        }
      ]
    },
    {
      "cell_type": "code",
      "source": [
        "# Check if there is any missing data\n",
        "\n",
        "papers.info()"
      ],
      "metadata": {
        "colab": {
          "base_uri": "https://localhost:8080/"
        },
        "id": "hctcG9c8qwXW",
        "outputId": "a23019f3-efe0-41d7-a3b9-fdb89ce17171"
      },
      "execution_count": 56,
      "outputs": [
        {
          "output_type": "stream",
          "name": "stdout",
          "text": [
            "<class 'pandas.core.frame.DataFrame'>\n",
            "RangeIndex: 15000 entries, 0 to 14999\n",
            "Data columns (total 2 columns):\n",
            " #   Column    Non-Null Count  Dtype \n",
            "---  ------    --------------  ----- \n",
            " 0   Abstract  15000 non-null  object\n",
            " 1   label     15000 non-null  int64 \n",
            "dtypes: int64(1), object(1)\n",
            "memory usage: 234.5+ KB\n"
          ]
        }
      ]
    },
    {
      "cell_type": "markdown",
      "source": [
        "# **Text preprocesssing**"
      ],
      "metadata": {
        "id": "yXYJA98KuklO"
      }
    },
    {
      "cell_type": "code",
      "source": [
        "papers1 = papers['Abstract']\n",
        "\n",
        "papers1"
      ],
      "metadata": {
        "colab": {
          "base_uri": "https://localhost:8080/"
        },
        "id": "wIA5n2Npq7eO",
        "outputId": "007af809-c21c-4267-a047-4f5eb0400a45"
      },
      "execution_count": 19,
      "outputs": [
        {
          "output_type": "execute_result",
          "data": {
            "text/plain": [
              "0       In this paper, we propose an accountable priva...\n",
              "1       It is essential to account the variability in ...\n",
              "2       Unsupervised anomalous sound detection, especi...\n",
              "3       Every employee in the company who deals with d...\n",
              "4       The transport of a neutral solute in incompres...\n",
              "                              ...                        \n",
              "1137    Historically the British Trades Union Congress...\n",
              "1138    ‘Emotional Weather Report’ is a song by Tom Wa...\n",
              "1139    Even though the rise of the neural machine tra...\n",
              "1140    This article responds to McCloud’s theoretical...\n",
              "1141    Background and objectives: Visual Schema Displ...\n",
              "Name: Abstract, Length: 1142, dtype: object"
            ]
          },
          "metadata": {},
          "execution_count": 19
        }
      ]
    },
    {
      "cell_type": "code",
      "source": [
        "from nltk.tokenize import WordPunctTokenizer\n",
        "from nltk.tokenize import word_tokenize"
      ],
      "metadata": {
        "id": "rIB7G4RFu00e"
      },
      "execution_count": 20,
      "outputs": []
    },
    {
      "cell_type": "code",
      "source": [
        "import nltk\n",
        "nltk.download('punkt')"
      ],
      "metadata": {
        "colab": {
          "base_uri": "https://localhost:8080/"
        },
        "id": "ruvGFFaLv4_G",
        "outputId": "4118aee3-98a5-4b54-8c5b-2011ce6e37fe"
      },
      "execution_count": 27,
      "outputs": [
        {
          "output_type": "stream",
          "name": "stderr",
          "text": [
            "[nltk_data] Downloading package punkt to /root/nltk_data...\n",
            "[nltk_data]   Unzipping tokenizers/punkt.zip.\n"
          ]
        },
        {
          "output_type": "execute_result",
          "data": {
            "text/plain": [
              "True"
            ]
          },
          "metadata": {},
          "execution_count": 27
        }
      ]
    },
    {
      "cell_type": "code",
      "source": [
        "WPT = WordPunctTokenizer()"
      ],
      "metadata": {
        "id": "7eA5LWlwvCN5"
      },
      "execution_count": 28,
      "outputs": []
    },
    {
      "cell_type": "code",
      "source": [
        "word_punct_token = WPT.tokenize(papers1[0])\n",
        "word_tokenize = word_tokenize(papers1[0])\n",
        "\n",
        "\n",
        "print(word_tokenize)"
      ],
      "metadata": {
        "colab": {
          "base_uri": "https://localhost:8080/"
        },
        "id": "6a_QYit1vIaM",
        "outputId": "b3c07ce8-444f-4a8a-cda8-4d70c16cd44b"
      },
      "execution_count": 29,
      "outputs": [
        {
          "output_type": "stream",
          "name": "stdout",
          "text": [
            "['In', 'this', 'paper', ',', 'we', 'propose', 'an', 'accountable', 'privacy', 'preserving', 'attribute-based', 'framework', ',', 'called', 'Ins-PAbAC', ',', 'that', 'combines', 'attribute', 'based', 'encryption', 'and', 'attribute', 'based', 'signature', 'techniques', 'for', 'securely', 'sharing', 'outsourced', 'data', 'contents', 'via', 'public', 'cloud', 'servers', '.', 'The', 'proposed', 'framework', 'presents', 'several', 'advantages', '.', 'First', ',', 'it', 'provides', 'an', 'encrypted', 'access', 'control', 'feature', ',', 'enforced', 'at', 'the', 'data', 'owner', \"'s\", 'side', ',', 'while', 'providing', 'the', 'desired', 'expressiveness', 'of', 'access', 'control', 'policies', '.', 'Second', ',', 'Ins-PAbAC', 'preserves', 'users', '’', 'privacy', ',', 'relying', 'on', 'an', 'anonymous', 'authentication', 'mechanism', ',', 'derived', 'from', 'a', 'privacy', 'preserving', 'attribute', 'based', 'signature', 'scheme', 'that', 'hides', 'the', 'users', '’', 'identifying', 'information', '.', 'Furthermore', ',', 'our', 'proposal', 'introduces', 'an', 'accountable', 'attribute', 'based', 'signature', 'that', 'enables', 'an', 'inspection', 'authority', 'to', 'reveal', 'the', 'identity', 'of', 'the', 'anonymously-authenticated', 'user', 'if', 'needed', '.', 'Third', ',', 'Ins-PAbAC', 'is', 'provably', 'secure', ',', 'as', 'it', 'is', 'resistant', 'to', 'both', 'curious', 'cloud', 'providers', 'and', 'malicious', 'users', 'adversaries', '.', 'Finally', ',', 'experimental', 'results', ',', 'built', 'upon', 'OpenStack', 'Swift', 'testbed', ',', 'point', 'out', 'the', 'applicability', 'of', 'the', 'proposed', 'scheme', 'in', 'real', 'world', 'scenarios', '.', '©', '2019', 'Elsevier', 'Inc', '.']\n"
          ]
        }
      ]
    },
    {
      "cell_type": "code",
      "source": [
        "print(word_punct_token)"
      ],
      "metadata": {
        "colab": {
          "base_uri": "https://localhost:8080/"
        },
        "id": "fWlFHchuvWdk",
        "outputId": "52aa5c29-42e6-43c7-da62-150dc1f7b1f1"
      },
      "execution_count": 30,
      "outputs": [
        {
          "output_type": "stream",
          "name": "stdout",
          "text": [
            "['In', 'this', 'paper', ',', 'we', 'propose', 'an', 'accountable', 'privacy', 'preserving', 'attribute', '-', 'based', 'framework', ',', 'called', 'Ins', '-', 'PAbAC', ',', 'that', 'combines', 'attribute', 'based', 'encryption', 'and', 'attribute', 'based', 'signature', 'techniques', 'for', 'securely', 'sharing', 'outsourced', 'data', 'contents', 'via', 'public', 'cloud', 'servers', '.', 'The', 'proposed', 'framework', 'presents', 'several', 'advantages', '.', 'First', ',', 'it', 'provides', 'an', 'encrypted', 'access', 'control', 'feature', ',', 'enforced', 'at', 'the', 'data', 'owner', \"'\", 's', 'side', ',', 'while', 'providing', 'the', 'desired', 'expressiveness', 'of', 'access', 'control', 'policies', '.', 'Second', ',', 'Ins', '-', 'PAbAC', 'preserves', 'users', '’', 'privacy', ',', 'relying', 'on', 'an', 'anonymous', 'authentication', 'mechanism', ',', 'derived', 'from', 'a', 'privacy', 'preserving', 'attribute', 'based', 'signature', 'scheme', 'that', 'hides', 'the', 'users', '’', 'identifying', 'information', '.', 'Furthermore', ',', 'our', 'proposal', 'introduces', 'an', 'accountable', 'attribute', 'based', 'signature', 'that', 'enables', 'an', 'inspection', 'authority', 'to', 'reveal', 'the', 'identity', 'of', 'the', 'anonymously', '-', 'authenticated', 'user', 'if', 'needed', '.', 'Third', ',', 'Ins', '-', 'PAbAC', 'is', 'provably', 'secure', ',', 'as', 'it', 'is', 'resistant', 'to', 'both', 'curious', 'cloud', 'providers', 'and', 'malicious', 'users', 'adversaries', '.', 'Finally', ',', 'experimental', 'results', ',', 'built', 'upon', 'OpenStack', 'Swift', 'testbed', ',', 'point', 'out', 'the', 'applicability', 'of', 'the', 'proposed', 'scheme', 'in', 'real', 'world', 'scenarios', '.', '©', '2019', 'Elsevier', 'Inc', '.']\n"
          ]
        }
      ]
    },
    {
      "cell_type": "code",
      "source": [
        "stop_words = stopwords.words('english')\n",
        "print(stop_words)"
      ],
      "metadata": {
        "colab": {
          "base_uri": "https://localhost:8080/"
        },
        "id": "qXH9aqNbwDjj",
        "outputId": "0e831fc6-3427-45ca-809a-a5555559607a"
      },
      "execution_count": 32,
      "outputs": [
        {
          "output_type": "stream",
          "name": "stdout",
          "text": [
            "['i', 'me', 'my', 'myself', 'we', 'our', 'ours', 'ourselves', 'you', \"you're\", \"you've\", \"you'll\", \"you'd\", 'your', 'yours', 'yourself', 'yourselves', 'he', 'him', 'his', 'himself', 'she', \"she's\", 'her', 'hers', 'herself', 'it', \"it's\", 'its', 'itself', 'they', 'them', 'their', 'theirs', 'themselves', 'what', 'which', 'who', 'whom', 'this', 'that', \"that'll\", 'these', 'those', 'am', 'is', 'are', 'was', 'were', 'be', 'been', 'being', 'have', 'has', 'had', 'having', 'do', 'does', 'did', 'doing', 'a', 'an', 'the', 'and', 'but', 'if', 'or', 'because', 'as', 'until', 'while', 'of', 'at', 'by', 'for', 'with', 'about', 'against', 'between', 'into', 'through', 'during', 'before', 'after', 'above', 'below', 'to', 'from', 'up', 'down', 'in', 'out', 'on', 'off', 'over', 'under', 'again', 'further', 'then', 'once', 'here', 'there', 'when', 'where', 'why', 'how', 'all', 'any', 'both', 'each', 'few', 'more', 'most', 'other', 'some', 'such', 'no', 'nor', 'not', 'only', 'own', 'same', 'so', 'than', 'too', 'very', 's', 't', 'can', 'will', 'just', 'don', \"don't\", 'should', \"should've\", 'now', 'd', 'll', 'm', 'o', 're', 've', 'y', 'ain', 'aren', \"aren't\", 'couldn', \"couldn't\", 'didn', \"didn't\", 'doesn', \"doesn't\", 'hadn', \"hadn't\", 'hasn', \"hasn't\", 'haven', \"haven't\", 'isn', \"isn't\", 'ma', 'mightn', \"mightn't\", 'mustn', \"mustn't\", 'needn', \"needn't\", 'shan', \"shan't\", 'shouldn', \"shouldn't\", 'wasn', \"wasn't\", 'weren', \"weren't\", 'won', \"won't\", 'wouldn', \"wouldn't\"]\n"
          ]
        }
      ]
    },
    {
      "cell_type": "code",
      "source": [
        "tokens = [x for x in word_punct_token  if x not in stop_words]\n",
        "print(tokens)"
      ],
      "metadata": {
        "colab": {
          "base_uri": "https://localhost:8080/"
        },
        "id": "TslRdc1kwPw9",
        "outputId": "33e71211-5212-450d-87ff-1433825f94ad"
      },
      "execution_count": 33,
      "outputs": [
        {
          "output_type": "stream",
          "name": "stdout",
          "text": [
            "['In', 'paper', ',', 'propose', 'accountable', 'privacy', 'preserving', 'attribute', '-', 'based', 'framework', ',', 'called', 'Ins', '-', 'PAbAC', ',', 'combines', 'attribute', 'based', 'encryption', 'attribute', 'based', 'signature', 'techniques', 'securely', 'sharing', 'outsourced', 'data', 'contents', 'via', 'public', 'cloud', 'servers', '.', 'The', 'proposed', 'framework', 'presents', 'several', 'advantages', '.', 'First', ',', 'provides', 'encrypted', 'access', 'control', 'feature', ',', 'enforced', 'data', 'owner', \"'\", 'side', ',', 'providing', 'desired', 'expressiveness', 'access', 'control', 'policies', '.', 'Second', ',', 'Ins', '-', 'PAbAC', 'preserves', 'users', '’', 'privacy', ',', 'relying', 'anonymous', 'authentication', 'mechanism', ',', 'derived', 'privacy', 'preserving', 'attribute', 'based', 'signature', 'scheme', 'hides', 'users', '’', 'identifying', 'information', '.', 'Furthermore', ',', 'proposal', 'introduces', 'accountable', 'attribute', 'based', 'signature', 'enables', 'inspection', 'authority', 'reveal', 'identity', 'anonymously', '-', 'authenticated', 'user', 'needed', '.', 'Third', ',', 'Ins', '-', 'PAbAC', 'provably', 'secure', ',', 'resistant', 'curious', 'cloud', 'providers', 'malicious', 'users', 'adversaries', '.', 'Finally', ',', 'experimental', 'results', ',', 'built', 'upon', 'OpenStack', 'Swift', 'testbed', ',', 'point', 'applicability', 'proposed', 'scheme', 'real', 'world', 'scenarios', '.', '©', '2019', 'Elsevier', 'Inc', '.']\n"
          ]
        }
      ]
    },
    {
      "cell_type": "markdown",
      "source": [
        "Lemmitization and stemming"
      ],
      "metadata": {
        "id": "Z-iEC3cGwc7m"
      }
    },
    {
      "cell_type": "code",
      "source": [
        "import nltk\n",
        "nltk.download('omw-1.4')"
      ],
      "metadata": {
        "colab": {
          "base_uri": "https://localhost:8080/"
        },
        "id": "e56onFdjwVzN",
        "outputId": "96fabacf-defd-41a6-c7af-1e3a1539e7a5"
      },
      "execution_count": 34,
      "outputs": [
        {
          "output_type": "stream",
          "name": "stderr",
          "text": [
            "[nltk_data] Downloading package omw-1.4 to /root/nltk_data...\n"
          ]
        },
        {
          "output_type": "execute_result",
          "data": {
            "text/plain": [
              "True"
            ]
          },
          "metadata": {},
          "execution_count": 34
        }
      ]
    },
    {
      "cell_type": "code",
      "source": [
        "from nltk.stem import WordNetLemmatizer\n",
        "lemmatizer = WordNetLemmatizer()"
      ],
      "metadata": {
        "id": "9DzKCiqHwgd6"
      },
      "execution_count": 35,
      "outputs": []
    },
    {
      "cell_type": "code",
      "source": [
        "import nltk\n",
        "nltk.download('wordnet')"
      ],
      "metadata": {
        "colab": {
          "base_uri": "https://localhost:8080/"
        },
        "id": "Ww3sQ4nixgBP",
        "outputId": "90623732-3cbf-4048-bd68-0814bd2538f5"
      },
      "execution_count": 37,
      "outputs": [
        {
          "output_type": "stream",
          "name": "stderr",
          "text": [
            "[nltk_data] Downloading package wordnet to /root/nltk_data...\n"
          ]
        },
        {
          "output_type": "execute_result",
          "data": {
            "text/plain": [
              "True"
            ]
          },
          "metadata": {},
          "execution_count": 37
        }
      ]
    },
    {
      "cell_type": "code",
      "source": [
        "print(lemmatizer.lemmatize(tokens[7]))"
      ],
      "metadata": {
        "colab": {
          "base_uri": "https://localhost:8080/"
        },
        "id": "_sc_7kWAxaNB",
        "outputId": "246ec17f-9f11-4df1-f94e-270f6df63244"
      },
      "execution_count": 38,
      "outputs": [
        {
          "output_type": "stream",
          "name": "stdout",
          "text": [
            "attribute\n"
          ]
        }
      ]
    },
    {
      "cell_type": "markdown",
      "source": [
        "# **Train and Test Split**"
      ],
      "metadata": {
        "id": "egdDliSh_3dK"
      }
    },
    {
      "cell_type": "code",
      "source": [
        "Abstract = papers.Abstract\n",
        "label = papers.label\n",
        "\n",
        "print(Abstract)"
      ],
      "metadata": {
        "colab": {
          "base_uri": "https://localhost:8080/"
        },
        "id": "ASAN1qwVAtiy",
        "outputId": "d7b62faa-eb78-49c7-8291-4115f72cb591"
      },
      "execution_count": 59,
      "outputs": [
        {
          "output_type": "stream",
          "name": "stdout",
          "text": [
            "0        In computer artificial intelligence, there is ...\n",
            "1        Artificial intelligence (AI) holds significant...\n",
            "2        The influence of Artificial Intelligence on hi...\n",
            "3        Background: Benign paroxysmal positional verti...\n",
            "4        Space-air-ground integrated networks comprise ...\n",
            "                               ...                        \n",
            "14995    In the recent past, the rise of hundreds of ‘A...\n",
            "14996    Research on AI has gained momentum in recent y...\n",
            "14997    In contrast to point forecasting, interval for...\n",
            "14998    Worldwide investments in influencer marketing ...\n",
            "14999    The primary aim of this systematic literature ...\n",
            "Name: Abstract, Length: 15000, dtype: object\n"
          ]
        }
      ]
    },
    {
      "cell_type": "code",
      "source": [
        "#Data splitting\n",
        "# 30% of the data will be reserved for testing\n",
        "\n",
        "from sklearn.model_selection import train_test_split\n",
        "\n",
        "train_df, test_df = train_test_split(papers,test_size=0.3,random_state=42)"
      ],
      "metadata": {
        "id": "a1N6O3rHyWkk"
      },
      "execution_count": 65,
      "outputs": []
    },
    {
      "cell_type": "code",
      "source": [
        "train_df.shape, test_df.shape"
      ],
      "metadata": {
        "colab": {
          "base_uri": "https://localhost:8080/"
        },
        "id": "Ew4eTB19AnLb",
        "outputId": "45d3726f-8312-4367-f57f-9fb5ed34bd8a"
      },
      "execution_count": 66,
      "outputs": [
        {
          "output_type": "execute_result",
          "data": {
            "text/plain": [
              "((10500, 2), (4500, 2))"
            ]
          },
          "metadata": {},
          "execution_count": 66
        }
      ]
    },
    {
      "cell_type": "code",
      "source": [
        "# Extreact the training and testing examples\n",
        "\n",
        "train_Abstract = train_df['Abstract'].values\n",
        "train_label = train_df['label'].values\n",
        "\n",
        "test_Abstract = test_df['Abstract'].values\n",
        "test_label = test_df['label'].values"
      ],
      "metadata": {
        "id": "frsf7g2MBDs_"
      },
      "execution_count": 74,
      "outputs": []
    },
    {
      "cell_type": "code",
      "source": [
        "train_Abstract.shape, test_label.shape"
      ],
      "metadata": {
        "colab": {
          "base_uri": "https://localhost:8080/"
        },
        "id": "p6Wsbj10Cq-0",
        "outputId": "aa616066-19cf-4459-cc5f-7dd9a01d07ee"
      },
      "execution_count": 77,
      "outputs": [
        {
          "output_type": "execute_result",
          "data": {
            "text/plain": [
              "((10500,), (4500,))"
            ]
          },
          "metadata": {},
          "execution_count": 77
        }
      ]
    },
    {
      "cell_type": "code",
      "source": [
        "#Examples of the train Abstract\n",
        "\n",
        "train_Abstract[:5]"
      ],
      "metadata": {
        "colab": {
          "base_uri": "https://localhost:8080/"
        },
        "id": "uY4X9W09DbNH",
        "outputId": "f3daaefd-7be0-46aa-e994-384a33aaf480"
      },
      "execution_count": 80,
      "outputs": [
        {
          "output_type": "execute_result",
          "data": {
            "text/plain": [
              "array(['Digital solutions are increasingly used to address “wicked problems” that are locally embedded but require global approaches. Scaling these solutions internationally is imperative for their success, but to date we know little about this process. Using a qualitative case study methodology, our paper analyzes how four digital solutions driven by the United Nations are built and how they scale internationally. These solutions address wicked problems through artificial intelligence, blockchain, and geospatial mapping, and are embedded in networks of partners which evolve during scaling to create unique ecosystem roles and configurations. We identify different ecosystem roles and find that the specific properties of digital solutions\\xa0–\\xa0modularity, generativity and affordances\\xa0–\\xa0enable either adaptation or replication during scaling. Building on these insights, we derive a typology of four different types of international scaling, which vary in their ecosystem versatility (how the ecosystem changes across locations) and the local adaptation of the application (the problems the solution addresses). This study presents a new way to examine the replication and adaptation dilemma for ecosystems and extends internationalization theory to the digital world. © 2022, The Author(s).',\n",
              "       'With the rapid development of Internet technology, online education has become an important part of the education field. The traditional education model has problems such as poor interactivity and insufficient personalization. In order to solve these problems, this article proposes a study on the online education system model, aiming to optimize and improve the shortcomings of the existing online education model and improve its quality. This article first analyzes the application of Internet of Things technology and discusses its technology. This article studies the advantages of artificial intelligence and proposes an education system based on artificial intelligence. After that, this article investigates the development of online education using crawler technology and uses the method of algorithm comparison to analyze the system deeply. Experimental results show that the collaborative filtering + weighted combined recommendation algorithm has good performance in this system, and its completeness, reliability, and correctness exceed 90%. © 2024 U-turn Press LLC.',\n",
              "       'In recent years, the high complexity of the business environment, dynamism and environmental change, uncertainty and concepts such as globalization and increasing competition of organizations in the national and international arena have caused many changes in the equations governing the supply chain. In this case, supply chain organizations must always be prepared for a variety of challenges and dynamic environmental changes. One of the effective solutions to face these challenges is to create a resilient supply chain. Resilient supply chain is able to overcome uncertainties and disruptions in the business environment. The competitive advantage of this supply chain does not depend only on low costs, high quality, reduced latency and high level of service. Rather, it has the ability of the chain to avoid catastrophes and overcome critical situations, and this is the resilience of the supply chain. AI and IoT technologies and their combination, called AIoT, have played a key role in improving supply chain performance in recent years and can therefore increase supply chain resilience. For this reason, in this study, an attempt was made to better understand the impact of these technologies on equity by examining the dimensions and components of the Artificial Intelligence of Things (AIoT)-based supply chain. Finally, using nonlinear fuzzy decision making method, the most important components of the impact on the resilient smart supply chain are determined. Understanding this assessment can help empower the smart supply chain. © 2022, Research Expansion Alliance (REA). All rights reserved.',\n",
              "       'This paper presents the development of a comprehensive, on-site industrial Optical Character Recognition (OCR) system tailored for reading text on iron plates. Initially, the system utilizes a text region detection network to identify the text area, enabling camera adjustments along the x and y axes and zoom enhancements for clearer text imagery. Subsequently, the detected text region undergoes line-by-line division through a text segmentation network. Each line is then transformed into rectangular patches for character recognition by the text recognition network, comprising a vision-based text recognition model and a language network. The vision network performs preliminary recognition, followed by refinement through the language model. The OCR results are then converted into digital characters and recorded in the iron plate registration system. This paper’s contributions are threefold: (1) the design of a comprehensive, on-site industrial OCR system for autonomous registration of iron plates; (2) the development of a realistic synthetic image generation strategy and a robust data augmentation strategy to address data scarcity; and (3) demonstrated impressive experimental results, indicating potential for on-site industrial applications. The designed autonomous system enhances iron plate registration efficiency and significantly reduces factory time and labor costs. © 2024 by the authors.',\n",
              "       'Problem definition: We study how algorithmic (versus human-based) task assignment processes change task recipients’ fairness perceptions and productivity. Academic/practical relevance: Since algorithms are widely adopted by businesses and often require human involvement, understanding how humans perceive algorithms is instrumental to the success of algorithm design in operations. Particularly, the growing concern that algorithms may reproduce inequality historically exhibited by humans calls for research about how people perceive the fairness of algorithmic decision making (relative to traditional human-based decision making) and, consequently, adjust their work behaviors. Methodology: In a 15-day-long field experiment with Alibaba Group in a warehouse where workers pick products following orders (or “pick lists”), we randomly assigned half of the workers to receive pick lists from a machine that ostensibly relied on an algorithm to distribute pick lists, and the other half to receive pick lists from a human distributor. Results: Despite that we used the same underlying rule to assign pick lists in both groups, workers perceive the algorithmic (versus human-based) assignment process as fairer by 0.94–1.02 standard deviations. This yields productivity benefits: receiving tasks from an algorithm (versus a human) increases workers’ picking efficiency by 15.56%–17.86%. These findings persist beyond the first day when workers were involved in the experiment, suggesting that our results are not limited to the initial phrase when workers might find algorithmic assignment novel. We replicate the main results in another field experiment involving a nonoverlapping sample of warehouse workers. We also show via online experiments that people in the United States also view algorithmic task assignment as fairer than human-based task assignment. Managerial implications: We demonstrate that algorithms can have broader impacts beyond offering greater efficiency and accuracy than humans: introducing algorithmic assignment processes may enhance fairness perceptions and productivity. This insight can be utilized by managers and algorithm designers to better design and implement algorithm-based decision making in operations. © 2022 INFORMS.'],\n",
              "      dtype=object)"
            ]
          },
          "metadata": {},
          "execution_count": 80
        }
      ]
    },
    {
      "cell_type": "code",
      "source": [
        "train_label[:5]"
      ],
      "metadata": {
        "colab": {
          "base_uri": "https://localhost:8080/"
        },
        "id": "M7PNOrwVEiTf",
        "outputId": "538bf718-afe8-4be5-9965-0eeb7f5a4309"
      },
      "execution_count": 81,
      "outputs": [
        {
          "output_type": "execute_result",
          "data": {
            "text/plain": [
              "array([0, 2, 2, 1, 0])"
            ]
          },
          "metadata": {},
          "execution_count": 81
        }
      ]
    },
    {
      "cell_type": "markdown",
      "source": [
        "# **Biuld Model**"
      ],
      "metadata": {
        "id": "6a63YGJ3Evii"
      }
    },
    {
      "cell_type": "code",
      "source": [
        "model_1 = \"https://tfhub.dev/google/nnlm-en-dim50/2\"\n",
        "hub_layer = hub.KerasLayer(model_1, input_shape=[], dtype=tf.string, trainable=True)\n",
        "hub_layer(train_Abstract[:3])"
      ],
      "metadata": {
        "colab": {
          "base_uri": "https://localhost:8080/"
        },
        "id": "L8-EEfTzEszh",
        "outputId": "513796a6-41f4-458f-dfd0-6738df7a6026"
      },
      "execution_count": 83,
      "outputs": [
        {
          "output_type": "execute_result",
          "data": {
            "text/plain": [
              "<tf.Tensor: shape=(3, 50), dtype=float32, numpy=\n",
              "array([[ 0.30819127,  0.20944689,  0.50993955,  0.2005238 , -0.6630927 ,\n",
              "        -0.24264099, -0.14509195,  0.3787548 , -0.86818445, -0.21720594,\n",
              "        -0.873501  ,  0.5866086 , -0.2629904 , -0.22888619,  0.32645723,\n",
              "         0.03920954,  0.23631899, -0.65621996,  0.50734794, -0.06888068,\n",
              "        -0.11818752, -0.25707695,  0.9164064 , -0.47618377, -0.2929351 ,\n",
              "         0.07510781, -0.231798  ,  0.31252414,  0.28091428, -0.4163451 ,\n",
              "         0.20972326, -0.3079886 ,  0.1442561 , -0.6084268 , -0.58783346,\n",
              "        -0.6292662 , -0.02335121, -0.36025888, -0.31005958, -0.39834014,\n",
              "         0.07828069,  0.43191475, -0.30393732,  0.8066014 ,  0.2513761 ,\n",
              "        -0.50885874, -0.08922997, -0.3561118 ,  0.41065055,  0.51072717],\n",
              "       [ 0.72727084,  0.01603405,  0.8764496 ,  0.10964483, -0.9042398 ,\n",
              "        -0.6236467 , -0.274023  ,  0.14207155, -0.6579888 , -0.11956891,\n",
              "        -0.27730098,  0.438937  , -0.19402303, -0.52480245,  0.3995676 ,\n",
              "        -0.11994065,  0.125145  , -0.17360397,  0.38405105,  0.33679372,\n",
              "        -0.47296798,  0.24133414,  0.6292631 , -0.5075051 , -0.28710994,\n",
              "         0.11452761, -0.36453223,  0.39486283, -0.35282317, -0.28456482,\n",
              "         0.00253313, -0.30380622, -0.14550935, -0.4799774 , -0.3191162 ,\n",
              "        -0.590351  ,  0.6596643 , -0.05795892, -0.19284403, -0.43463585,\n",
              "        -0.13332643,  0.25778216,  0.20358317,  0.8574961 , -0.07109742,\n",
              "        -0.71931976, -0.04702528,  0.00378503,  0.43099004,  0.6029475 ],\n",
              "       [ 0.7728668 , -0.11997676,  0.7046098 ,  0.33921117, -1.063069  ,\n",
              "        -0.82314306, -0.10837205,  0.19024155, -0.6092598 , -0.04045174,\n",
              "        -0.881398  ,  0.7473164 , -0.43684417, -0.13599525,  0.1922448 ,\n",
              "        -0.46586454, -0.05013421, -0.55183125, -0.06300811,  0.02805704,\n",
              "         0.06945884, -0.4848711 ,  0.8711009 , -0.19866858,  0.04867879,\n",
              "         0.15638594, -0.32119578,  0.60840696, -0.06568313, -0.5605073 ,\n",
              "        -0.00930745, -0.40450826,  0.49635124, -0.48690346, -0.43105385,\n",
              "        -0.43332145,  0.45878744, -0.3054725 , -0.26166838, -0.9648898 ,\n",
              "        -0.28627652,  0.25739655,  0.32442048,  0.7561868 ,  0.6250034 ,\n",
              "        -0.6081407 ,  0.14822133, -0.18588735,  0.14575745,  0.42216948]],\n",
              "      dtype=float32)>"
            ]
          },
          "metadata": {},
          "execution_count": 83
        }
      ]
    },
    {
      "cell_type": "code",
      "source": [
        "model_2 = \"https://tfhub.dev/google/nnlm-en-dim50-with-normalization/2\"\n",
        "hub_layer = hub.KerasLayer(model_2, input_shape=[], dtype=tf.string, trainable=True)\n",
        "hub_layer(train_Abstract[:3])"
      ],
      "metadata": {
        "colab": {
          "base_uri": "https://localhost:8080/"
        },
        "id": "oB-OIOSTFCCr",
        "outputId": "2ae98314-673e-4a33-89d7-f6badb7fd32a"
      },
      "execution_count": 85,
      "outputs": [
        {
          "output_type": "execute_result",
          "data": {
            "text/plain": [
              "<tf.Tensor: shape=(3, 50), dtype=float32, numpy=\n",
              "array([[-0.03246222,  0.23952438,  0.6666062 ,  0.0866725 , -0.9752053 ,\n",
              "        -0.3768316 , -0.08369859,  0.351678  , -1.0651877 , -0.157682  ,\n",
              "        -0.80772424,  0.6041593 , -0.29249018, -0.23391913,  0.27230182,\n",
              "         0.08928214,  0.24121727, -0.8200853 ,  0.6312705 ,  0.07431545,\n",
              "        -0.03016189, -0.32984394,  1.1177435 , -0.60634196, -0.43697554,\n",
              "         0.37006617, -0.26711345,  0.3651609 ,  0.33484185, -0.48895782,\n",
              "         0.11570848, -0.39807752,  0.15745302, -0.6970522 , -0.76136774,\n",
              "        -0.67240137,  0.03430431, -0.45808986, -0.22112237, -0.46324712,\n",
              "        -0.07216966,  0.43243963, -0.06433047,  0.9216442 ,  0.22217512,\n",
              "        -0.716571  , -0.14210647, -0.49654132,  0.5683729 ,  0.57151777],\n",
              "       [ 0.5108946 ,  0.06035847,  0.90636826,  0.11856593, -1.1565678 ,\n",
              "        -0.6671171 , -0.17987193,  0.23133308, -0.79685366, -0.09055639,\n",
              "        -0.31400445,  0.49605408, -0.23103005, -0.6169743 ,  0.39336246,\n",
              "        -0.11281401,  0.10386288, -0.27902377,  0.44790542,  0.32866377,\n",
              "        -0.45070958,  0.326958  ,  0.79865015, -0.58276105, -0.33618373,\n",
              "         0.19951522, -0.38533324,  0.358965  , -0.30370575, -0.30068627,\n",
              "         0.09228753, -0.3756619 , -0.07135541, -0.5308334 , -0.3016238 ,\n",
              "        -0.6261165 ,  0.67565775, -0.22786307, -0.1628088 , -0.5305171 ,\n",
              "        -0.14930484,  0.37014407,  0.39274967,  0.9891955 ,  0.01600363,\n",
              "        -0.8312736 ,  0.01798546, -0.10307121,  0.5734193 ,  0.6494043 ],\n",
              "       [ 0.40282726, -0.0482691 ,  0.8312369 ,  0.30015498, -1.4071567 ,\n",
              "        -1.107359  ,  0.15228577,  0.31751382, -0.57701886,  0.1684539 ,\n",
              "        -0.68223715,  0.69404596, -0.48212212, -0.33098978,  0.1343918 ,\n",
              "        -0.479103  , -0.27939966, -0.7442979 , -0.00304333, -0.04931685,\n",
              "         0.0486313 , -0.39492765,  0.99387056, -0.1628546 , -0.058567  ,\n",
              "         0.3680353 , -0.29391173,  0.569727  , -0.02648523, -0.73533374,\n",
              "         0.10038491, -0.5737273 ,  0.5987531 , -0.72610676, -0.425421  ,\n",
              "        -0.40373626,  0.46910405, -0.4300946 , -0.31947303, -1.087989  ,\n",
              "        -0.14524752,  0.5059048 ,  0.649414  ,  1.0753733 ,  0.86414564,\n",
              "        -0.67432064,  0.18835051, -0.36780006,  0.3028846 ,  0.45203006]],\n",
              "      dtype=float32)>"
            ]
          },
          "metadata": {},
          "execution_count": 85
        }
      ]
    },
    {
      "cell_type": "code",
      "source": [
        "model_3 = \"https://tfhub.dev/google/nnlm-en-dim128-with-normalization/2\"\n",
        "hub_layer = hub.KerasLayer(model_3, input_shape=[], dtype=tf.string, trainable=True)\n",
        "hub_layer(train_Abstract[:3])"
      ],
      "metadata": {
        "colab": {
          "base_uri": "https://localhost:8080/"
        },
        "id": "gcOC8ae9Fi6r",
        "outputId": "5f6a25c4-699a-456b-96a3-e119ce0ef5e0"
      },
      "execution_count": 86,
      "outputs": [
        {
          "output_type": "execute_result",
          "data": {
            "text/plain": [
              "<tf.Tensor: shape=(3, 128), dtype=float32, numpy=\n",
              "array([[ 1.54860580e+00, -1.02506056e-01,  3.40369314e-01,\n",
              "        -1.91790685e-01, -3.56966674e-01,  1.45241497e-02,\n",
              "         2.27144435e-01, -5.71509339e-02, -3.12246174e-01,\n",
              "         5.12111068e-01,  1.97600961e-01, -1.51935637e-01,\n",
              "        -2.04322472e-01,  1.90892816e-03, -5.25328934e-01,\n",
              "        -2.18335807e-01, -2.69521534e-01, -4.70605195e-02,\n",
              "        -4.43803161e-01,  1.11671865e+00,  2.19564855e-01,\n",
              "        -1.30544692e-01, -3.85573544e-02,  1.44983634e-01,\n",
              "         2.26829574e-01,  5.49685471e-02,  7.40156174e-02,\n",
              "         4.39704776e-01,  5.13541251e-02,  1.63469344e-01,\n",
              "        -8.27084035e-02, -1.06585838e-01,  1.33365080e-01,\n",
              "        -2.12458223e-02, -2.55759656e-02, -1.37422264e-01,\n",
              "         6.21008314e-02, -2.16192856e-01, -1.74775105e-02,\n",
              "         1.35856241e-01,  5.49127050e-02, -2.56466061e-01,\n",
              "        -2.10632049e-02,  1.49504766e-01, -9.98005550e-03,\n",
              "        -7.98494816e-02,  2.60071568e-02, -5.01104534e-01,\n",
              "         4.24268275e-01,  2.05186725e-01,  2.91425616e-01,\n",
              "         9.30909142e-02,  7.31867909e-01,  1.77635103e-02,\n",
              "        -1.01070113e-01, -3.23250331e-02,  2.80041546e-01,\n",
              "        -1.36306018e-01,  3.96167099e-01,  4.69724983e-01,\n",
              "        -1.37934107e-02,  2.10623085e-01,  1.96057856e-01,\n",
              "        -3.64954710e-01, -2.09306300e-01,  1.96426481e-01,\n",
              "        -5.05947508e-02, -1.61058351e-01,  3.32788199e-01,\n",
              "         3.49500954e-01, -1.48234054e-01,  1.84618961e-02,\n",
              "         1.52110547e-01,  1.04367109e-02,  1.56053782e-01,\n",
              "         4.47559536e-01, -3.52661610e-01,  8.78730118e-02,\n",
              "         6.86400458e-02, -2.79599935e-01,  3.40314180e-01,\n",
              "         6.50010556e-02, -9.30999815e-02, -6.11194894e-02,\n",
              "         8.72609317e-02, -1.02129206e-01, -3.86613607e-01,\n",
              "         3.32798570e-01,  6.84446454e-01,  5.71547210e-01,\n",
              "         4.26514626e-01,  8.98730382e-02, -2.02531163e-02,\n",
              "        -1.60355210e-01,  1.11030087e-01, -1.68874841e-02,\n",
              "        -1.89854980e-01, -1.23116888e-01, -7.92795062e-01,\n",
              "        -3.45398649e-03,  2.45838929e-02,  1.69559255e-01,\n",
              "         3.85027587e-01,  4.77074265e-01,  1.28710032e-01,\n",
              "         6.23507798e-02,  1.57159224e-01,  4.35364842e-01,\n",
              "        -7.65037686e-02,  1.16173819e-01, -7.08415091e-01,\n",
              "         8.00282136e-02, -4.28391010e-01, -2.43915156e-01,\n",
              "        -1.93942003e-02, -2.19552785e-01,  4.17913884e-01,\n",
              "        -3.82862896e-01,  4.20556843e-01, -3.66966091e-02,\n",
              "         2.87262406e-02, -2.61717349e-01, -3.22326869e-01,\n",
              "         1.65300053e-02, -5.28316572e-02, -3.62505883e-01,\n",
              "        -9.72474664e-02,  6.80504739e-02],\n",
              "       [ 1.35132933e+00,  1.91220373e-01,  2.56657481e-01,\n",
              "        -4.88307685e-01, -1.87710747e-01,  1.41245946e-01,\n",
              "         5.49816005e-02,  2.53816433e-02, -2.05635265e-01,\n",
              "         5.80985010e-01,  1.63312495e-01, -2.50847489e-01,\n",
              "        -2.94856787e-01,  9.77721512e-02, -8.06570888e-01,\n",
              "        -1.85288966e-01, -2.51684070e-01, -2.73700915e-02,\n",
              "        -1.26939178e-01,  1.37198520e+00,  3.04564327e-01,\n",
              "        -2.77760416e-01, -5.73566221e-02,  1.78754970e-01,\n",
              "         3.65270317e-01,  2.21742719e-01,  2.21030369e-01,\n",
              "         1.01200439e-01, -9.91489738e-02,  5.89749068e-02,\n",
              "         6.05522878e-02,  8.02199543e-02,  9.98438150e-02,\n",
              "        -5.55988066e-02, -6.00553676e-02, -6.41952455e-02,\n",
              "        -1.67085156e-01, -3.93967688e-01, -1.11214675e-01,\n",
              "         1.47674397e-01, -1.00923382e-01, -3.18002641e-01,\n",
              "        -1.74695313e-01,  2.55372852e-01, -1.15432076e-01,\n",
              "        -2.93004721e-01,  1.79048672e-01, -4.26294267e-01,\n",
              "         3.47373635e-01,  3.16480756e-01,  2.96056420e-01,\n",
              "        -1.49580240e-01,  4.91953045e-01, -2.10297078e-01,\n",
              "        -9.88655025e-04,  7.79596418e-02,  3.96034926e-01,\n",
              "        -1.53936306e-02,  4.99787778e-01,  1.07010506e-01,\n",
              "         2.06963435e-01,  2.42246434e-01,  3.07766855e-01,\n",
              "        -2.17848733e-01, -2.43251398e-01, -3.52929756e-02,\n",
              "         3.53229970e-01, -2.30022982e-01,  8.84359181e-02,\n",
              "         4.15977895e-01, -3.54333550e-01, -6.37601614e-02,\n",
              "        -2.24150927e-03,  3.25683095e-02,  9.65732560e-02,\n",
              "         3.38893712e-01, -4.19199675e-01, -1.19985409e-01,\n",
              "         2.23962024e-01, -2.86256403e-01,  2.53215879e-01,\n",
              "         6.86584564e-04, -3.40494752e-01,  3.64516377e-02,\n",
              "         3.99412066e-01, -1.20442741e-01, -3.10346246e-01,\n",
              "        -3.02217994e-02,  4.10407901e-01,  8.42894256e-01,\n",
              "         4.64525253e-01,  1.23194136e-01,  1.09073587e-01,\n",
              "        -1.58369243e-01,  4.54973318e-02, -9.92628932e-02,\n",
              "        -2.07200825e-01,  1.19991347e-01, -6.31025136e-01,\n",
              "         1.81309149e-01,  4.43460513e-03,  2.24475618e-02,\n",
              "         1.68465957e-01,  1.85640201e-01,  9.07277986e-02,\n",
              "        -3.31529905e-03, -2.64550671e-02,  2.44992331e-01,\n",
              "        -7.47850537e-02,  1.17667513e-02, -3.89106661e-01,\n",
              "         3.23080540e-01, -2.97072917e-01, -2.23254770e-01,\n",
              "         2.23439410e-01, -1.09986596e-01,  7.32420564e-01,\n",
              "        -2.52870142e-01,  3.89832586e-01,  7.25144669e-02,\n",
              "         2.25211345e-02, -1.62728593e-01, -1.06944114e-01,\n",
              "        -3.28081436e-02, -4.52358633e-01, -2.31360286e-01,\n",
              "         1.36815667e-01, -9.44744982e-03],\n",
              "       [ 1.95404720e+00, -6.99170306e-02,  4.80393082e-01,\n",
              "        -2.43832886e-01, -4.15789485e-01, -1.96280051e-02,\n",
              "         4.21127409e-01,  1.89690590e-01, -1.34723783e-01,\n",
              "         3.86959046e-01,  2.98628479e-01, -8.61087590e-02,\n",
              "        -5.03224432e-01, -1.68158665e-01, -7.87026703e-01,\n",
              "        -2.35818446e-01,  7.15705275e-04,  2.97176987e-01,\n",
              "        -3.39394122e-01,  1.60855269e+00,  3.78180146e-01,\n",
              "         8.60902444e-02,  3.75225320e-02,  1.76111966e-01,\n",
              "         4.59935695e-01, -6.38896320e-03,  3.56674373e-01,\n",
              "         2.08765104e-01, -1.28558734e-02,  8.39177966e-02,\n",
              "         8.03656131e-02, -2.73892786e-02,  2.36844495e-01,\n",
              "         1.19111501e-01, -2.27466002e-01,  6.98165819e-02,\n",
              "         1.05690677e-02, -3.38017732e-01, -1.66144431e-01,\n",
              "         1.77881628e-01, -8.09080228e-02, -1.92901447e-01,\n",
              "        -2.18355402e-01,  5.18922247e-02,  6.04157336e-02,\n",
              "        -2.57724077e-02,  9.71795842e-02, -2.58041006e-02,\n",
              "         3.88906449e-01,  3.33134800e-01,  5.65231681e-01,\n",
              "        -1.04147580e-03,  6.30646288e-01,  7.55255893e-02,\n",
              "        -5.95370904e-02,  3.92581195e-01,  5.69921076e-01,\n",
              "        -5.09879999e-02,  4.02862787e-01,  5.92202246e-01,\n",
              "        -5.88492341e-02,  3.26651186e-01,  1.90728933e-01,\n",
              "        -3.97332698e-01, -2.89844543e-01,  5.54406524e-01,\n",
              "        -4.33878303e-02,  7.71796629e-02,  2.10465372e-01,\n",
              "         2.48340338e-01, -2.16544315e-01, -1.96935385e-01,\n",
              "         2.05094516e-01,  2.28510410e-01,  1.57267556e-01,\n",
              "         4.29534525e-01, -5.81622720e-01, -1.20734520e-01,\n",
              "         4.38251123e-02, -7.16089159e-02,  3.48049074e-01,\n",
              "         3.23999405e-01, -1.31345168e-01, -1.67495102e-01,\n",
              "         5.77935636e-01, -1.05912574e-02, -3.32839400e-01,\n",
              "         3.13432604e-01,  7.12248683e-01,  9.24302042e-01,\n",
              "         4.86143321e-01,  2.92589992e-01, -3.04595917e-01,\n",
              "        -9.10088941e-02,  1.79934546e-01,  4.95564677e-02,\n",
              "         1.85891911e-01,  1.11727394e-01, -7.01934755e-01,\n",
              "         1.46850068e-02, -3.18721160e-02, -2.59800293e-02,\n",
              "         2.40067706e-01,  4.10783201e-01,  6.10924251e-02,\n",
              "        -2.13833898e-02, -1.30502522e-01,  4.93126571e-01,\n",
              "         6.92372257e-03,  1.86183508e-02, -6.50668323e-01,\n",
              "         1.56668961e-01, -4.65328753e-01, -1.79095671e-01,\n",
              "         1.62617490e-02, -1.54501826e-01,  5.76196909e-01,\n",
              "        -3.37856263e-01,  1.61506742e-01,  2.00087830e-01,\n",
              "         6.06482141e-02, -2.99944818e-01, -4.77100492e-01,\n",
              "         5.24469167e-02, -1.35252982e-01, -2.89311290e-01,\n",
              "         9.06806216e-02,  1.95305914e-01]], dtype=float32)>"
            ]
          },
          "metadata": {},
          "execution_count": 86
        }
      ]
    },
    {
      "cell_type": "code",
      "source": [
        "model = tf.keras.Sequential()\n",
        "model.add(hub_layer)\n",
        "model.add(tf.keras.layers.Dense(16, activation='relu'))\n",
        "model.add(tf.keras.layers.Dense(1))\n",
        "\n",
        "model.summary()"
      ],
      "metadata": {
        "colab": {
          "base_uri": "https://localhost:8080/"
        },
        "id": "Z7UhmaeaFwUh",
        "outputId": "308f0aca-fc48-4657-8553-ba409ee03a65"
      },
      "execution_count": 88,
      "outputs": [
        {
          "output_type": "stream",
          "name": "stdout",
          "text": [
            "Model: \"sequential_1\"\n",
            "_________________________________________________________________\n",
            " Layer (type)                Output Shape              Param #   \n",
            "=================================================================\n",
            " keras_layer_4 (KerasLayer)  (None, 128)               124642688 \n",
            "                                                                 \n",
            " dense (Dense)               (None, 16)                2064      \n",
            "                                                                 \n",
            " dense_1 (Dense)             (None, 1)                 17        \n",
            "                                                                 \n",
            "=================================================================\n",
            "Total params: 124644769 (475.48 MB)\n",
            "Trainable params: 124644769 (475.48 MB)\n",
            "Non-trainable params: 0 (0.00 Byte)\n",
            "_________________________________________________________________\n"
          ]
        }
      ]
    },
    {
      "cell_type": "code",
      "source": [],
      "metadata": {
        "id": "qt0lty8iGMg7"
      },
      "execution_count": null,
      "outputs": []
    }
  ]
}